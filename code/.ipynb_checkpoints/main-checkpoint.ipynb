{
 "cells": [
  {
   "cell_type": "code",
   "execution_count": 1,
   "metadata": {},
   "outputs": [],
   "source": [
    "%matplotlib inline"
   ]
  },
  {
   "cell_type": "code",
   "execution_count": 2,
   "metadata": {},
   "outputs": [
    {
     "name": "stderr",
     "output_type": "stream",
     "text": [
      "Using Theano backend.\n"
     ]
    }
   ],
   "source": [
    "import os\n",
    "import re\n",
    "import json\n",
    "import matplotlib.pyplot as plt\n",
    "from sklearn.model_selection import train_test_split\n",
    "import tensorflow as tf\n",
    "\n",
    "from nltk.corpus import stopwords\n",
    "import nltk as nltk\n",
    "from nltk.stem import PorterStemmer\n",
    "from nltk.tokenize import sent_tokenize, word_tokenize\n",
    "\n",
    "import numpy as np\n",
    "import pandas as pd\n",
    "\n",
    "from keras.preprocessing.sequence import pad_sequences\n",
    "from keras.models import Model, Sequential, model_from_json\n",
    "from keras.layers import Dense, Embedding, Input, LSTM\n",
    "from keras.callbacks import EarlyStopping\n",
    "from keras.preprocessing.text import Tokenizer\n",
    "#!conda update -y dask #if pandas version is above approx. 0.19 Keras throws exception without dask update.\n",
    "\n",
    "def set_seed(seed=42):\n",
    "    tf.set_random_seed(seed)\n",
    "    np.random.seed(seed)\n",
    "set_seed()"
   ]
  },
  {
   "cell_type": "code",
   "execution_count": 3,
   "metadata": {},
   "outputs": [],
   "source": [
    "json_dir = os.path.join('..', 'data', 'dataset')\n",
    "\n",
    "json_review_filepath = os.path.join(json_dir, 'review.json')\n",
    "\n",
    "# data = pd.read_json(json_review_filepath, orient='records')\n",
    "dummy=[]\n",
    "with open(json_review_filepath) as f:\n",
    "    [ dummy.append(json.loads(line)) for i, line in enumerate(f) if i < 50000]\n",
    "data_all = pd.DataFrame(dummy)\n",
    "del(dummy)\n",
    "data_all.drop(['cool','date','funny','review_id','stars','useful','user_id'], axis=1, inplace=True)"
   ]
  },
  {
   "cell_type": "code",
   "execution_count": 4,
   "metadata": {},
   "outputs": [
    {
     "data": {
      "text/plain": [
       "50000"
      ]
     },
     "execution_count": 4,
     "metadata": {},
     "output_type": "execute_result"
    }
   ],
   "source": [
    "len(data_all)"
   ]
  },
  {
   "cell_type": "code",
   "execution_count": 5,
   "metadata": {},
   "outputs": [],
   "source": [
    "json_business_filepath = os.path.join(json_dir, 'business.json')\n",
    "# data_bus = pd.read_json(json_business_filepath) //won't work due to malformed JSON\n",
    "dummy=[]\n",
    "with open(json_business_filepath) as f:\n",
    "    [dummy.append(json.loads(line)) for i, line in enumerate(f) if line !=''] # rean in whole file\n",
    "data_bus = pd.DataFrame(dummy)\n",
    "del(dummy)\n",
    "data_bus.drop(data_bus.columns.drop(['business_id', 'categories']), axis=1, inplace=True)\n",
    "# df = data_bus(data_bus['categories'])\n"
   ]
  },
  {
   "cell_type": "code",
   "execution_count": 6,
   "metadata": {},
   "outputs": [],
   "source": [
    "def get_category(l):\n",
    "    if 'Chinese' in l:\n",
    "        return 0 # Chinese\n",
    "    else:\n",
    "        return 1 # Italian\n",
    "\n",
    "data_it_chi = pd.DataFrame(\n",
    "    [ (x[1]['business_id'],  get_category(x[1]['categories']))\n",
    "     for i, x in enumerate(data_bus.iterrows()) \n",
    "     if ((('Chinese' in x[1]['categories']) | ('Italian' in x[1]['categories'])) & ('Restaurants' in x[1]['categories'])) \n",
    "    ])\n",
    "data_it_chi.columns = ['business_id', 'restaurant_type']\n",
    "# 'Chinese' in data_bus['categories']"
   ]
  },
  {
   "cell_type": "code",
   "execution_count": 7,
   "metadata": {},
   "outputs": [
    {
     "data": {
      "text/plain": [
       "8165"
      ]
     },
     "execution_count": 7,
     "metadata": {},
     "output_type": "execute_result"
    }
   ],
   "source": [
    "len(data_it_chi)"
   ]
  },
  {
   "cell_type": "code",
   "execution_count": 8,
   "metadata": {},
   "outputs": [
    {
     "data": {
      "text/html": [
       "<div>\n",
       "<style>\n",
       "    .dataframe thead tr:only-child th {\n",
       "        text-align: right;\n",
       "    }\n",
       "\n",
       "    .dataframe thead th {\n",
       "        text-align: left;\n",
       "    }\n",
       "\n",
       "    .dataframe tbody tr th {\n",
       "        vertical-align: top;\n",
       "    }\n",
       "</style>\n",
       "<table border=\"1\" class=\"dataframe\">\n",
       "  <thead>\n",
       "    <tr style=\"text-align: right;\">\n",
       "      <th></th>\n",
       "      <th>business_id</th>\n",
       "      <th>restaurant_type</th>\n",
       "    </tr>\n",
       "  </thead>\n",
       "  <tbody>\n",
       "    <tr>\n",
       "      <th>0</th>\n",
       "      <td>iFEiMJoEqyB9O8OUNSdLzA</td>\n",
       "      <td>0</td>\n",
       "    </tr>\n",
       "    <tr>\n",
       "      <th>1</th>\n",
       "      <td>HmI9nhgOkrXlUr6KZGZZew</td>\n",
       "      <td>1</td>\n",
       "    </tr>\n",
       "    <tr>\n",
       "      <th>2</th>\n",
       "      <td>FLTbKRmBytP1AbjWSPEeyw</td>\n",
       "      <td>0</td>\n",
       "    </tr>\n",
       "    <tr>\n",
       "      <th>3</th>\n",
       "      <td>dEmNOTm8Rmm9JYZdGX_Lhw</td>\n",
       "      <td>1</td>\n",
       "    </tr>\n",
       "    <tr>\n",
       "      <th>4</th>\n",
       "      <td>b5VIe-VnkOOwiwkjGw071A</td>\n",
       "      <td>0</td>\n",
       "    </tr>\n",
       "  </tbody>\n",
       "</table>\n",
       "</div>"
      ],
      "text/plain": [
       "              business_id  restaurant_type\n",
       "0  iFEiMJoEqyB9O8OUNSdLzA                0\n",
       "1  HmI9nhgOkrXlUr6KZGZZew                1\n",
       "2  FLTbKRmBytP1AbjWSPEeyw                0\n",
       "3  dEmNOTm8Rmm9JYZdGX_Lhw                1\n",
       "4  b5VIe-VnkOOwiwkjGw071A                0"
      ]
     },
     "execution_count": 8,
     "metadata": {},
     "output_type": "execute_result"
    }
   ],
   "source": [
    "data_it_chi.head()"
   ]
  },
  {
   "cell_type": "code",
   "execution_count": 9,
   "metadata": {},
   "outputs": [],
   "source": [
    "data = pd.merge(data_it_chi, data_all, on='business_id', how='inner')"
   ]
  },
  {
   "cell_type": "code",
   "execution_count": 10,
   "metadata": {},
   "outputs": [
    {
     "data": {
      "text/html": [
       "<div>\n",
       "<style>\n",
       "    .dataframe thead tr:only-child th {\n",
       "        text-align: right;\n",
       "    }\n",
       "\n",
       "    .dataframe thead th {\n",
       "        text-align: left;\n",
       "    }\n",
       "\n",
       "    .dataframe tbody tr th {\n",
       "        vertical-align: top;\n",
       "    }\n",
       "</style>\n",
       "<table border=\"1\" class=\"dataframe\">\n",
       "  <thead>\n",
       "    <tr style=\"text-align: right;\">\n",
       "      <th></th>\n",
       "      <th>business_id</th>\n",
       "      <th>restaurant_type</th>\n",
       "      <th>text</th>\n",
       "    </tr>\n",
       "  </thead>\n",
       "  <tbody>\n",
       "    <tr>\n",
       "      <th>0</th>\n",
       "      <td>JM9LVlM_o3k_CbCErIQYAg</td>\n",
       "      <td>0</td>\n",
       "      <td>Don't normally comment on chain restaurants, b...</td>\n",
       "    </tr>\n",
       "    <tr>\n",
       "      <th>1</th>\n",
       "      <td>JM9LVlM_o3k_CbCErIQYAg</td>\n",
       "      <td>0</td>\n",
       "      <td>The drive-thru waitresses Cindy E. and Rosa ha...</td>\n",
       "    </tr>\n",
       "    <tr>\n",
       "      <th>2</th>\n",
       "      <td>JM9LVlM_o3k_CbCErIQYAg</td>\n",
       "      <td>0</td>\n",
       "      <td>The food is always great at this location.  Th...</td>\n",
       "    </tr>\n",
       "    <tr>\n",
       "      <th>3</th>\n",
       "      <td>JM9LVlM_o3k_CbCErIQYAg</td>\n",
       "      <td>0</td>\n",
       "      <td>There is a Panda down the street from my house...</td>\n",
       "    </tr>\n",
       "    <tr>\n",
       "      <th>4</th>\n",
       "      <td>JM9LVlM_o3k_CbCErIQYAg</td>\n",
       "      <td>0</td>\n",
       "      <td>Tried to pick up a quick meal on the way from ...</td>\n",
       "    </tr>\n",
       "    <tr>\n",
       "      <th>5</th>\n",
       "      <td>JM9LVlM_o3k_CbCErIQYAg</td>\n",
       "      <td>0</td>\n",
       "      <td>Stopped by this place on our drive back toward...</td>\n",
       "    </tr>\n",
       "    <tr>\n",
       "      <th>6</th>\n",
       "      <td>JM9LVlM_o3k_CbCErIQYAg</td>\n",
       "      <td>0</td>\n",
       "      <td>Stopped in for dinner last night,got dried out...</td>\n",
       "    </tr>\n",
       "    <tr>\n",
       "      <th>7</th>\n",
       "      <td>JM9LVlM_o3k_CbCErIQYAg</td>\n",
       "      <td>0</td>\n",
       "      <td>the chow mein was dry and over cooked the oran...</td>\n",
       "    </tr>\n",
       "    <tr>\n",
       "      <th>8</th>\n",
       "      <td>JM9LVlM_o3k_CbCErIQYAg</td>\n",
       "      <td>0</td>\n",
       "      <td>Excellent, prompt &amp; polite service. High quali...</td>\n",
       "    </tr>\n",
       "    <tr>\n",
       "      <th>9</th>\n",
       "      <td>JM9LVlM_o3k_CbCErIQYAg</td>\n",
       "      <td>0</td>\n",
       "      <td>Mom's favorite is the honey walnut shrimp and ...</td>\n",
       "    </tr>\n",
       "    <tr>\n",
       "      <th>10</th>\n",
       "      <td>JM9LVlM_o3k_CbCErIQYAg</td>\n",
       "      <td>0</td>\n",
       "      <td>Periodically, about every six months, I come b...</td>\n",
       "    </tr>\n",
       "    <tr>\n",
       "      <th>11</th>\n",
       "      <td>JM9LVlM_o3k_CbCErIQYAg</td>\n",
       "      <td>0</td>\n",
       "      <td>Love the Panda!! Food is much better than you ...</td>\n",
       "    </tr>\n",
       "    <tr>\n",
       "      <th>12</th>\n",
       "      <td>b7pkopqvDr7A7S7hlqp6cw</td>\n",
       "      <td>1</td>\n",
       "      <td>Food is so good! They have a new menu out with...</td>\n",
       "    </tr>\n",
       "    <tr>\n",
       "      <th>13</th>\n",
       "      <td>b7pkopqvDr7A7S7hlqp6cw</td>\n",
       "      <td>1</td>\n",
       "      <td>I ordered there chicken parmesan pizza and ord...</td>\n",
       "    </tr>\n",
       "    <tr>\n",
       "      <th>14</th>\n",
       "      <td>b7pkopqvDr7A7S7hlqp6cw</td>\n",
       "      <td>1</td>\n",
       "      <td>I am happy with their sandwiches, but experien...</td>\n",
       "    </tr>\n",
       "    <tr>\n",
       "      <th>15</th>\n",
       "      <td>b7pkopqvDr7A7S7hlqp6cw</td>\n",
       "      <td>1</td>\n",
       "      <td>Love this place, brisket sandwich is so good a...</td>\n",
       "    </tr>\n",
       "    <tr>\n",
       "      <th>16</th>\n",
       "      <td>b7pkopqvDr7A7S7hlqp6cw</td>\n",
       "      <td>1</td>\n",
       "      <td>Me and my husband used to love going to zeppes...</td>\n",
       "    </tr>\n",
       "    <tr>\n",
       "      <th>17</th>\n",
       "      <td>agrC_R_CnEyyAgoIzNZeFg</td>\n",
       "      <td>1</td>\n",
       "      <td>Great service here. Very good Italian food, in...</td>\n",
       "    </tr>\n",
       "    <tr>\n",
       "      <th>18</th>\n",
       "      <td>agrC_R_CnEyyAgoIzNZeFg</td>\n",
       "      <td>1</td>\n",
       "      <td>Très bon restaurant Italien (enfin à Ste-Julie...</td>\n",
       "    </tr>\n",
       "    <tr>\n",
       "      <th>19</th>\n",
       "      <td>agrC_R_CnEyyAgoIzNZeFg</td>\n",
       "      <td>1</td>\n",
       "      <td>Excellent restaurant italien, fine cuisine, al...</td>\n",
       "    </tr>\n",
       "    <tr>\n",
       "      <th>20</th>\n",
       "      <td>sEVa_2Nlo8CBPGOTE7ubgw</td>\n",
       "      <td>1</td>\n",
       "      <td>NY Pizza here! Best around. I thought when I m...</td>\n",
       "    </tr>\n",
       "    <tr>\n",
       "      <th>21</th>\n",
       "      <td>sEVa_2Nlo8CBPGOTE7ubgw</td>\n",
       "      <td>1</td>\n",
       "      <td>The pizza dough was incredibly rubbery and the...</td>\n",
       "    </tr>\n",
       "    <tr>\n",
       "      <th>22</th>\n",
       "      <td>sEVa_2Nlo8CBPGOTE7ubgw</td>\n",
       "      <td>1</td>\n",
       "      <td>I went to Danny's in Tega Cay a couple of year...</td>\n",
       "    </tr>\n",
       "    <tr>\n",
       "      <th>23</th>\n",
       "      <td>sEVa_2Nlo8CBPGOTE7ubgw</td>\n",
       "      <td>1</td>\n",
       "      <td>If you are a displaced Yankee looking for actu...</td>\n",
       "    </tr>\n",
       "    <tr>\n",
       "      <th>24</th>\n",
       "      <td>sEVa_2Nlo8CBPGOTE7ubgw</td>\n",
       "      <td>1</td>\n",
       "      <td>Second time I tried this pizza. It came in abo...</td>\n",
       "    </tr>\n",
       "    <tr>\n",
       "      <th>25</th>\n",
       "      <td>sEVa_2Nlo8CBPGOTE7ubgw</td>\n",
       "      <td>1</td>\n",
       "      <td>Danny's Pizza recently took over the former Di...</td>\n",
       "    </tr>\n",
       "    <tr>\n",
       "      <th>26</th>\n",
       "      <td>sEVa_2Nlo8CBPGOTE7ubgw</td>\n",
       "      <td>1</td>\n",
       "      <td>This place never disappoints! Pizza is sways a...</td>\n",
       "    </tr>\n",
       "    <tr>\n",
       "      <th>27</th>\n",
       "      <td>ShnXvNkJKsDIQaGJeM0L6w</td>\n",
       "      <td>0</td>\n",
       "      <td>It's inside the mall and the food is awesome! ...</td>\n",
       "    </tr>\n",
       "    <tr>\n",
       "      <th>28</th>\n",
       "      <td>ShnXvNkJKsDIQaGJeM0L6w</td>\n",
       "      <td>0</td>\n",
       "      <td>A diamond in the rough... I get off the highwa...</td>\n",
       "    </tr>\n",
       "    <tr>\n",
       "      <th>29</th>\n",
       "      <td>ShnXvNkJKsDIQaGJeM0L6w</td>\n",
       "      <td>0</td>\n",
       "      <td>It helps to have someone understand the langua...</td>\n",
       "    </tr>\n",
       "    <tr>\n",
       "      <th>...</th>\n",
       "      <td>...</td>\n",
       "      <td>...</td>\n",
       "      <td>...</td>\n",
       "    </tr>\n",
       "    <tr>\n",
       "      <th>3750</th>\n",
       "      <td>Mb4V2aPneclZZ8BfZUjWGA</td>\n",
       "      <td>1</td>\n",
       "      <td>Ken Stewart personally greeted me the second t...</td>\n",
       "    </tr>\n",
       "    <tr>\n",
       "      <th>3751</th>\n",
       "      <td>Mb4V2aPneclZZ8BfZUjWGA</td>\n",
       "      <td>1</td>\n",
       "      <td>TERRIBLE service. We made a reservation a mont...</td>\n",
       "    </tr>\n",
       "    <tr>\n",
       "      <th>3752</th>\n",
       "      <td>Mb4V2aPneclZZ8BfZUjWGA</td>\n",
       "      <td>1</td>\n",
       "      <td>Stopped in for a late night snack and received...</td>\n",
       "    </tr>\n",
       "    <tr>\n",
       "      <th>3753</th>\n",
       "      <td>Mb4V2aPneclZZ8BfZUjWGA</td>\n",
       "      <td>1</td>\n",
       "      <td>I've been blessed to date chefs that's travel ...</td>\n",
       "    </tr>\n",
       "    <tr>\n",
       "      <th>3754</th>\n",
       "      <td>Mb4V2aPneclZZ8BfZUjWGA</td>\n",
       "      <td>1</td>\n",
       "      <td>Had the pleasure of visiting Ken Stewart restu...</td>\n",
       "    </tr>\n",
       "    <tr>\n",
       "      <th>3755</th>\n",
       "      <td>Mb4V2aPneclZZ8BfZUjWGA</td>\n",
       "      <td>1</td>\n",
       "      <td>Great restaurant-one of the best in Ohio.  Int...</td>\n",
       "    </tr>\n",
       "    <tr>\n",
       "      <th>3756</th>\n",
       "      <td>Mb4V2aPneclZZ8BfZUjWGA</td>\n",
       "      <td>1</td>\n",
       "      <td>Ken Stewart's East Bank is brand spanking new....</td>\n",
       "    </tr>\n",
       "    <tr>\n",
       "      <th>3757</th>\n",
       "      <td>Mb4V2aPneclZZ8BfZUjWGA</td>\n",
       "      <td>1</td>\n",
       "      <td>We went to Ken Stewart's East Bank for Downtow...</td>\n",
       "    </tr>\n",
       "    <tr>\n",
       "      <th>3758</th>\n",
       "      <td>Mb4V2aPneclZZ8BfZUjWGA</td>\n",
       "      <td>1</td>\n",
       "      <td>My husband and I decided to try during Restaur...</td>\n",
       "    </tr>\n",
       "    <tr>\n",
       "      <th>3759</th>\n",
       "      <td>Mb4V2aPneclZZ8BfZUjWGA</td>\n",
       "      <td>1</td>\n",
       "      <td>Arguably the best diver scallops and shrimp I ...</td>\n",
       "    </tr>\n",
       "    <tr>\n",
       "      <th>3760</th>\n",
       "      <td>Mb4V2aPneclZZ8BfZUjWGA</td>\n",
       "      <td>1</td>\n",
       "      <td>Although I've heard the name for years, this w...</td>\n",
       "    </tr>\n",
       "    <tr>\n",
       "      <th>3761</th>\n",
       "      <td>Mb4V2aPneclZZ8BfZUjWGA</td>\n",
       "      <td>1</td>\n",
       "      <td>Just about as good as it gets. Yes others have...</td>\n",
       "    </tr>\n",
       "    <tr>\n",
       "      <th>3762</th>\n",
       "      <td>Mb4V2aPneclZZ8BfZUjWGA</td>\n",
       "      <td>1</td>\n",
       "      <td>A two-star review for Ken Stewart's East Bank ...</td>\n",
       "    </tr>\n",
       "    <tr>\n",
       "      <th>3763</th>\n",
       "      <td>Mb4V2aPneclZZ8BfZUjWGA</td>\n",
       "      <td>1</td>\n",
       "      <td>This was our final stop last evening as our sm...</td>\n",
       "    </tr>\n",
       "    <tr>\n",
       "      <th>3764</th>\n",
       "      <td>Mb4V2aPneclZZ8BfZUjWGA</td>\n",
       "      <td>1</td>\n",
       "      <td>It was a busy Saturday night. I was greeted se...</td>\n",
       "    </tr>\n",
       "    <tr>\n",
       "      <th>3765</th>\n",
       "      <td>Mb4V2aPneclZZ8BfZUjWGA</td>\n",
       "      <td>1</td>\n",
       "      <td>Had some dear relatives in the CLE  last weeke...</td>\n",
       "    </tr>\n",
       "    <tr>\n",
       "      <th>3766</th>\n",
       "      <td>Mb4V2aPneclZZ8BfZUjWGA</td>\n",
       "      <td>1</td>\n",
       "      <td>First time dinning and had reservations for my...</td>\n",
       "    </tr>\n",
       "    <tr>\n",
       "      <th>3767</th>\n",
       "      <td>Mb4V2aPneclZZ8BfZUjWGA</td>\n",
       "      <td>1</td>\n",
       "      <td>We've been to this Ken Stewart and the Akron o...</td>\n",
       "    </tr>\n",
       "    <tr>\n",
       "      <th>3768</th>\n",
       "      <td>Mb4V2aPneclZZ8BfZUjWGA</td>\n",
       "      <td>1</td>\n",
       "      <td>Stopped in around 8 on a Friday night with 2 f...</td>\n",
       "    </tr>\n",
       "    <tr>\n",
       "      <th>3769</th>\n",
       "      <td>Mb4V2aPneclZZ8BfZUjWGA</td>\n",
       "      <td>1</td>\n",
       "      <td>Wow. Ken has done it again, it's about time he...</td>\n",
       "    </tr>\n",
       "    <tr>\n",
       "      <th>3770</th>\n",
       "      <td>Mb4V2aPneclZZ8BfZUjWGA</td>\n",
       "      <td>1</td>\n",
       "      <td>Nice vibe. Tasty steak and appetizers. \\nWould...</td>\n",
       "    </tr>\n",
       "    <tr>\n",
       "      <th>3771</th>\n",
       "      <td>Mb4V2aPneclZZ8BfZUjWGA</td>\n",
       "      <td>1</td>\n",
       "      <td>We went for lunch today, the restaurant has be...</td>\n",
       "    </tr>\n",
       "    <tr>\n",
       "      <th>3772</th>\n",
       "      <td>Mb4V2aPneclZZ8BfZUjWGA</td>\n",
       "      <td>1</td>\n",
       "      <td>5 stars for service, food, cocktails, and ambi...</td>\n",
       "    </tr>\n",
       "    <tr>\n",
       "      <th>3773</th>\n",
       "      <td>Mb4V2aPneclZZ8BfZUjWGA</td>\n",
       "      <td>1</td>\n",
       "      <td>I am so disappointed! Ken Stewarts in Fairlawn...</td>\n",
       "    </tr>\n",
       "    <tr>\n",
       "      <th>3774</th>\n",
       "      <td>Mb4V2aPneclZZ8BfZUjWGA</td>\n",
       "      <td>1</td>\n",
       "      <td>The most consistently amazing restaurant in Cl...</td>\n",
       "    </tr>\n",
       "    <tr>\n",
       "      <th>3775</th>\n",
       "      <td>Mb4V2aPneclZZ8BfZUjWGA</td>\n",
       "      <td>1</td>\n",
       "      <td>The food is average here but you have to take ...</td>\n",
       "    </tr>\n",
       "    <tr>\n",
       "      <th>3776</th>\n",
       "      <td>ui4fyPJ_HRm4HPkEmIHQOA</td>\n",
       "      <td>0</td>\n",
       "      <td>The black pepper chicken here is my favorite C...</td>\n",
       "    </tr>\n",
       "    <tr>\n",
       "      <th>3777</th>\n",
       "      <td>ui4fyPJ_HRm4HPkEmIHQOA</td>\n",
       "      <td>0</td>\n",
       "      <td>I have been here twice. Both times I took my s...</td>\n",
       "    </tr>\n",
       "    <tr>\n",
       "      <th>3778</th>\n",
       "      <td>ui4fyPJ_HRm4HPkEmIHQOA</td>\n",
       "      <td>0</td>\n",
       "      <td>There is another Chinese place closer to where...</td>\n",
       "    </tr>\n",
       "    <tr>\n",
       "      <th>3779</th>\n",
       "      <td>ui4fyPJ_HRm4HPkEmIHQOA</td>\n",
       "      <td>0</td>\n",
       "      <td>Their steamed dumplings are really good! So ar...</td>\n",
       "    </tr>\n",
       "  </tbody>\n",
       "</table>\n",
       "<p>3780 rows × 3 columns</p>\n",
       "</div>"
      ],
      "text/plain": [
       "                 business_id  restaurant_type  \\\n",
       "0     JM9LVlM_o3k_CbCErIQYAg                0   \n",
       "1     JM9LVlM_o3k_CbCErIQYAg                0   \n",
       "2     JM9LVlM_o3k_CbCErIQYAg                0   \n",
       "3     JM9LVlM_o3k_CbCErIQYAg                0   \n",
       "4     JM9LVlM_o3k_CbCErIQYAg                0   \n",
       "5     JM9LVlM_o3k_CbCErIQYAg                0   \n",
       "6     JM9LVlM_o3k_CbCErIQYAg                0   \n",
       "7     JM9LVlM_o3k_CbCErIQYAg                0   \n",
       "8     JM9LVlM_o3k_CbCErIQYAg                0   \n",
       "9     JM9LVlM_o3k_CbCErIQYAg                0   \n",
       "10    JM9LVlM_o3k_CbCErIQYAg                0   \n",
       "11    JM9LVlM_o3k_CbCErIQYAg                0   \n",
       "12    b7pkopqvDr7A7S7hlqp6cw                1   \n",
       "13    b7pkopqvDr7A7S7hlqp6cw                1   \n",
       "14    b7pkopqvDr7A7S7hlqp6cw                1   \n",
       "15    b7pkopqvDr7A7S7hlqp6cw                1   \n",
       "16    b7pkopqvDr7A7S7hlqp6cw                1   \n",
       "17    agrC_R_CnEyyAgoIzNZeFg                1   \n",
       "18    agrC_R_CnEyyAgoIzNZeFg                1   \n",
       "19    agrC_R_CnEyyAgoIzNZeFg                1   \n",
       "20    sEVa_2Nlo8CBPGOTE7ubgw                1   \n",
       "21    sEVa_2Nlo8CBPGOTE7ubgw                1   \n",
       "22    sEVa_2Nlo8CBPGOTE7ubgw                1   \n",
       "23    sEVa_2Nlo8CBPGOTE7ubgw                1   \n",
       "24    sEVa_2Nlo8CBPGOTE7ubgw                1   \n",
       "25    sEVa_2Nlo8CBPGOTE7ubgw                1   \n",
       "26    sEVa_2Nlo8CBPGOTE7ubgw                1   \n",
       "27    ShnXvNkJKsDIQaGJeM0L6w                0   \n",
       "28    ShnXvNkJKsDIQaGJeM0L6w                0   \n",
       "29    ShnXvNkJKsDIQaGJeM0L6w                0   \n",
       "...                      ...              ...   \n",
       "3750  Mb4V2aPneclZZ8BfZUjWGA                1   \n",
       "3751  Mb4V2aPneclZZ8BfZUjWGA                1   \n",
       "3752  Mb4V2aPneclZZ8BfZUjWGA                1   \n",
       "3753  Mb4V2aPneclZZ8BfZUjWGA                1   \n",
       "3754  Mb4V2aPneclZZ8BfZUjWGA                1   \n",
       "3755  Mb4V2aPneclZZ8BfZUjWGA                1   \n",
       "3756  Mb4V2aPneclZZ8BfZUjWGA                1   \n",
       "3757  Mb4V2aPneclZZ8BfZUjWGA                1   \n",
       "3758  Mb4V2aPneclZZ8BfZUjWGA                1   \n",
       "3759  Mb4V2aPneclZZ8BfZUjWGA                1   \n",
       "3760  Mb4V2aPneclZZ8BfZUjWGA                1   \n",
       "3761  Mb4V2aPneclZZ8BfZUjWGA                1   \n",
       "3762  Mb4V2aPneclZZ8BfZUjWGA                1   \n",
       "3763  Mb4V2aPneclZZ8BfZUjWGA                1   \n",
       "3764  Mb4V2aPneclZZ8BfZUjWGA                1   \n",
       "3765  Mb4V2aPneclZZ8BfZUjWGA                1   \n",
       "3766  Mb4V2aPneclZZ8BfZUjWGA                1   \n",
       "3767  Mb4V2aPneclZZ8BfZUjWGA                1   \n",
       "3768  Mb4V2aPneclZZ8BfZUjWGA                1   \n",
       "3769  Mb4V2aPneclZZ8BfZUjWGA                1   \n",
       "3770  Mb4V2aPneclZZ8BfZUjWGA                1   \n",
       "3771  Mb4V2aPneclZZ8BfZUjWGA                1   \n",
       "3772  Mb4V2aPneclZZ8BfZUjWGA                1   \n",
       "3773  Mb4V2aPneclZZ8BfZUjWGA                1   \n",
       "3774  Mb4V2aPneclZZ8BfZUjWGA                1   \n",
       "3775  Mb4V2aPneclZZ8BfZUjWGA                1   \n",
       "3776  ui4fyPJ_HRm4HPkEmIHQOA                0   \n",
       "3777  ui4fyPJ_HRm4HPkEmIHQOA                0   \n",
       "3778  ui4fyPJ_HRm4HPkEmIHQOA                0   \n",
       "3779  ui4fyPJ_HRm4HPkEmIHQOA                0   \n",
       "\n",
       "                                                   text  \n",
       "0     Don't normally comment on chain restaurants, b...  \n",
       "1     The drive-thru waitresses Cindy E. and Rosa ha...  \n",
       "2     The food is always great at this location.  Th...  \n",
       "3     There is a Panda down the street from my house...  \n",
       "4     Tried to pick up a quick meal on the way from ...  \n",
       "5     Stopped by this place on our drive back toward...  \n",
       "6     Stopped in for dinner last night,got dried out...  \n",
       "7     the chow mein was dry and over cooked the oran...  \n",
       "8     Excellent, prompt & polite service. High quali...  \n",
       "9     Mom's favorite is the honey walnut shrimp and ...  \n",
       "10    Periodically, about every six months, I come b...  \n",
       "11    Love the Panda!! Food is much better than you ...  \n",
       "12    Food is so good! They have a new menu out with...  \n",
       "13    I ordered there chicken parmesan pizza and ord...  \n",
       "14    I am happy with their sandwiches, but experien...  \n",
       "15    Love this place, brisket sandwich is so good a...  \n",
       "16    Me and my husband used to love going to zeppes...  \n",
       "17    Great service here. Very good Italian food, in...  \n",
       "18    Très bon restaurant Italien (enfin à Ste-Julie...  \n",
       "19    Excellent restaurant italien, fine cuisine, al...  \n",
       "20    NY Pizza here! Best around. I thought when I m...  \n",
       "21    The pizza dough was incredibly rubbery and the...  \n",
       "22    I went to Danny's in Tega Cay a couple of year...  \n",
       "23    If you are a displaced Yankee looking for actu...  \n",
       "24    Second time I tried this pizza. It came in abo...  \n",
       "25    Danny's Pizza recently took over the former Di...  \n",
       "26    This place never disappoints! Pizza is sways a...  \n",
       "27    It's inside the mall and the food is awesome! ...  \n",
       "28    A diamond in the rough... I get off the highwa...  \n",
       "29    It helps to have someone understand the langua...  \n",
       "...                                                 ...  \n",
       "3750  Ken Stewart personally greeted me the second t...  \n",
       "3751  TERRIBLE service. We made a reservation a mont...  \n",
       "3752  Stopped in for a late night snack and received...  \n",
       "3753  I've been blessed to date chefs that's travel ...  \n",
       "3754  Had the pleasure of visiting Ken Stewart restu...  \n",
       "3755  Great restaurant-one of the best in Ohio.  Int...  \n",
       "3756  Ken Stewart's East Bank is brand spanking new....  \n",
       "3757  We went to Ken Stewart's East Bank for Downtow...  \n",
       "3758  My husband and I decided to try during Restaur...  \n",
       "3759  Arguably the best diver scallops and shrimp I ...  \n",
       "3760  Although I've heard the name for years, this w...  \n",
       "3761  Just about as good as it gets. Yes others have...  \n",
       "3762  A two-star review for Ken Stewart's East Bank ...  \n",
       "3763  This was our final stop last evening as our sm...  \n",
       "3764  It was a busy Saturday night. I was greeted se...  \n",
       "3765  Had some dear relatives in the CLE  last weeke...  \n",
       "3766  First time dinning and had reservations for my...  \n",
       "3767  We've been to this Ken Stewart and the Akron o...  \n",
       "3768  Stopped in around 8 on a Friday night with 2 f...  \n",
       "3769  Wow. Ken has done it again, it's about time he...  \n",
       "3770  Nice vibe. Tasty steak and appetizers. \\nWould...  \n",
       "3771  We went for lunch today, the restaurant has be...  \n",
       "3772  5 stars for service, food, cocktails, and ambi...  \n",
       "3773  I am so disappointed! Ken Stewarts in Fairlawn...  \n",
       "3774  The most consistently amazing restaurant in Cl...  \n",
       "3775  The food is average here but you have to take ...  \n",
       "3776  The black pepper chicken here is my favorite C...  \n",
       "3777  I have been here twice. Both times I took my s...  \n",
       "3778  There is another Chinese place closer to where...  \n",
       "3779  Their steamed dumplings are really good! So ar...  \n",
       "\n",
       "[3780 rows x 3 columns]"
      ]
     },
     "execution_count": 10,
     "metadata": {},
     "output_type": "execute_result"
    }
   ],
   "source": [
    "data"
   ]
  },
  {
   "cell_type": "code",
   "execution_count": 11,
   "metadata": {},
   "outputs": [],
   "source": [
    "del(data_it_chi)\n",
    "del(data_all)\n",
    "del(data_bus)"
   ]
  },
  {
   "cell_type": "markdown",
   "metadata": {},
   "source": [
    "## Word stemming"
   ]
  },
  {
   "cell_type": "code",
   "execution_count": 12,
   "metadata": {},
   "outputs": [],
   "source": [
    "nltk_words = set(stopwords.words('english')) #About 150 stopwords"
   ]
  },
  {
   "cell_type": "code",
   "execution_count": 13,
   "metadata": {},
   "outputs": [
    {
     "data": {
      "text/plain": [
       "[\"don't\",\n",
       " 'normally',\n",
       " 'comment',\n",
       " 'chain',\n",
       " 'restaurants,',\n",
       " 'first',\n",
       " 'panda',\n",
       " 'drive-thru.',\n",
       " 'food',\n",
       " \"panda's\",\n",
       " 'normal',\n",
       " '4-star,',\n",
       " '\"yay,',\n",
       " \"i'm\",\n",
       " 'fan,\"',\n",
       " 'level.',\n",
       " \"it's\",\n",
       " 'hard',\n",
       " 'fill',\n",
       " 'panda',\n",
       " 'survey.',\n",
       " 'example,',\n",
       " 'trays',\n",
       " 'full?',\n",
       " 'sure,',\n",
       " 'drive-thru.']"
      ]
     },
     "execution_count": 13,
     "metadata": {},
     "output_type": "execute_result"
    }
   ],
   "source": [
    "sentence = [word for word in data['text'][0].lower().split() if word not in nltk_words]\n",
    "sentence"
   ]
  },
  {
   "cell_type": "code",
   "execution_count": 14,
   "metadata": {},
   "outputs": [],
   "source": [
    "ps = PorterStemmer()"
   ]
  },
  {
   "cell_type": "code",
   "execution_count": 15,
   "metadata": {},
   "outputs": [
    {
     "data": {
      "text/plain": [
       "[\"don't\",\n",
       " 'normal',\n",
       " 'comment',\n",
       " 'chain',\n",
       " 'restaurants,',\n",
       " 'first',\n",
       " 'panda',\n",
       " 'drive-thru.',\n",
       " 'food',\n",
       " \"panda'\",\n",
       " 'normal',\n",
       " '4-star,',\n",
       " '\"yay,',\n",
       " \"i'm\",\n",
       " 'fan,\"',\n",
       " 'level.',\n",
       " \"it'\",\n",
       " 'hard',\n",
       " 'fill',\n",
       " 'panda',\n",
       " 'survey.',\n",
       " 'example,',\n",
       " 'tray',\n",
       " 'full?',\n",
       " 'sure,',\n",
       " 'drive-thru.']"
      ]
     },
     "execution_count": 15,
     "metadata": {},
     "output_type": "execute_result"
    }
   ],
   "source": [
    "sentence_stem = [ps.stem(word) for word in sentence]\n",
    "sentence_stem"
   ]
  },
  {
   "cell_type": "code",
   "execution_count": 16,
   "metadata": {},
   "outputs": [
    {
     "ename": "TypeError",
     "evalue": "expected string or bytes-like object",
     "output_type": "error",
     "traceback": [
      "\u001b[0;31m---------------------------------------------------------------------------\u001b[0m",
      "\u001b[0;31mTypeError\u001b[0m                                 Traceback (most recent call last)",
      "\u001b[0;32m<ipython-input-16-3f190673cc42>\u001b[0m in \u001b[0;36m<module>\u001b[0;34m()\u001b[0m\n\u001b[0;32m----> 1\u001b[0;31m \u001b[0mword_tokenize\u001b[0m\u001b[0;34m(\u001b[0m\u001b[0msentence_stem\u001b[0m\u001b[0;34m)\u001b[0m\u001b[0;34m\u001b[0m\u001b[0m\n\u001b[0m",
      "\u001b[0;32m/Users/szalmaf/anaconda/envs/kaggle2017/lib/python3.5/site-packages/nltk/tokenize/__init__.py\u001b[0m in \u001b[0;36mword_tokenize\u001b[0;34m(text, language, preserve_line)\u001b[0m\n\u001b[1;32m    128\u001b[0m     \u001b[0;34m:\u001b[0m\u001b[0mtype\u001b[0m \u001b[0mpreserver_line\u001b[0m\u001b[0;34m:\u001b[0m \u001b[0mbool\u001b[0m\u001b[0;34m\u001b[0m\u001b[0m\n\u001b[1;32m    129\u001b[0m     \"\"\"\n\u001b[0;32m--> 130\u001b[0;31m     \u001b[0msentences\u001b[0m \u001b[0;34m=\u001b[0m \u001b[0;34m[\u001b[0m\u001b[0mtext\u001b[0m\u001b[0;34m]\u001b[0m \u001b[0;32mif\u001b[0m \u001b[0mpreserve_line\u001b[0m \u001b[0;32melse\u001b[0m \u001b[0msent_tokenize\u001b[0m\u001b[0;34m(\u001b[0m\u001b[0mtext\u001b[0m\u001b[0;34m,\u001b[0m \u001b[0mlanguage\u001b[0m\u001b[0;34m)\u001b[0m\u001b[0;34m\u001b[0m\u001b[0m\n\u001b[0m\u001b[1;32m    131\u001b[0m     return [token for sent in sentences\n\u001b[1;32m    132\u001b[0m             for token in _treebank_word_tokenizer.tokenize(sent)]\n",
      "\u001b[0;32m/Users/szalmaf/anaconda/envs/kaggle2017/lib/python3.5/site-packages/nltk/tokenize/__init__.py\u001b[0m in \u001b[0;36msent_tokenize\u001b[0;34m(text, language)\u001b[0m\n\u001b[1;32m     95\u001b[0m     \"\"\"\n\u001b[1;32m     96\u001b[0m     \u001b[0mtokenizer\u001b[0m \u001b[0;34m=\u001b[0m \u001b[0mload\u001b[0m\u001b[0;34m(\u001b[0m\u001b[0;34m'tokenizers/punkt/{0}.pickle'\u001b[0m\u001b[0;34m.\u001b[0m\u001b[0mformat\u001b[0m\u001b[0;34m(\u001b[0m\u001b[0mlanguage\u001b[0m\u001b[0;34m)\u001b[0m\u001b[0;34m)\u001b[0m\u001b[0;34m\u001b[0m\u001b[0m\n\u001b[0;32m---> 97\u001b[0;31m     \u001b[0;32mreturn\u001b[0m \u001b[0mtokenizer\u001b[0m\u001b[0;34m.\u001b[0m\u001b[0mtokenize\u001b[0m\u001b[0;34m(\u001b[0m\u001b[0mtext\u001b[0m\u001b[0;34m)\u001b[0m\u001b[0;34m\u001b[0m\u001b[0m\n\u001b[0m\u001b[1;32m     98\u001b[0m \u001b[0;34m\u001b[0m\u001b[0m\n\u001b[1;32m     99\u001b[0m \u001b[0;31m# Standard word tokenizer.\u001b[0m\u001b[0;34m\u001b[0m\u001b[0;34m\u001b[0m\u001b[0m\n",
      "\u001b[0;32m/Users/szalmaf/anaconda/envs/kaggle2017/lib/python3.5/site-packages/nltk/tokenize/punkt.py\u001b[0m in \u001b[0;36mtokenize\u001b[0;34m(self, text, realign_boundaries)\u001b[0m\n\u001b[1;32m   1233\u001b[0m         \u001b[0mGiven\u001b[0m \u001b[0ma\u001b[0m \u001b[0mtext\u001b[0m\u001b[0;34m,\u001b[0m \u001b[0mreturns\u001b[0m \u001b[0ma\u001b[0m \u001b[0mlist\u001b[0m \u001b[0mof\u001b[0m \u001b[0mthe\u001b[0m \u001b[0msentences\u001b[0m \u001b[0;32min\u001b[0m \u001b[0mthat\u001b[0m \u001b[0mtext\u001b[0m\u001b[0;34m.\u001b[0m\u001b[0;34m\u001b[0m\u001b[0m\n\u001b[1;32m   1234\u001b[0m         \"\"\"\n\u001b[0;32m-> 1235\u001b[0;31m         \u001b[0;32mreturn\u001b[0m \u001b[0mlist\u001b[0m\u001b[0;34m(\u001b[0m\u001b[0mself\u001b[0m\u001b[0;34m.\u001b[0m\u001b[0msentences_from_text\u001b[0m\u001b[0;34m(\u001b[0m\u001b[0mtext\u001b[0m\u001b[0;34m,\u001b[0m \u001b[0mrealign_boundaries\u001b[0m\u001b[0;34m)\u001b[0m\u001b[0;34m)\u001b[0m\u001b[0;34m\u001b[0m\u001b[0m\n\u001b[0m\u001b[1;32m   1236\u001b[0m \u001b[0;34m\u001b[0m\u001b[0m\n\u001b[1;32m   1237\u001b[0m     \u001b[0;32mdef\u001b[0m \u001b[0mdebug_decisions\u001b[0m\u001b[0;34m(\u001b[0m\u001b[0mself\u001b[0m\u001b[0;34m,\u001b[0m \u001b[0mtext\u001b[0m\u001b[0;34m)\u001b[0m\u001b[0;34m:\u001b[0m\u001b[0;34m\u001b[0m\u001b[0m\n",
      "\u001b[0;32m/Users/szalmaf/anaconda/envs/kaggle2017/lib/python3.5/site-packages/nltk/tokenize/punkt.py\u001b[0m in \u001b[0;36msentences_from_text\u001b[0;34m(self, text, realign_boundaries)\u001b[0m\n\u001b[1;32m   1281\u001b[0m         \u001b[0mfollows\u001b[0m \u001b[0mthe\u001b[0m \u001b[0mperiod\u001b[0m\u001b[0;34m.\u001b[0m\u001b[0;34m\u001b[0m\u001b[0m\n\u001b[1;32m   1282\u001b[0m         \"\"\"\n\u001b[0;32m-> 1283\u001b[0;31m         \u001b[0;32mreturn\u001b[0m \u001b[0;34m[\u001b[0m\u001b[0mtext\u001b[0m\u001b[0;34m[\u001b[0m\u001b[0ms\u001b[0m\u001b[0;34m:\u001b[0m\u001b[0me\u001b[0m\u001b[0;34m]\u001b[0m \u001b[0;32mfor\u001b[0m \u001b[0ms\u001b[0m\u001b[0;34m,\u001b[0m \u001b[0me\u001b[0m \u001b[0;32min\u001b[0m \u001b[0mself\u001b[0m\u001b[0;34m.\u001b[0m\u001b[0mspan_tokenize\u001b[0m\u001b[0;34m(\u001b[0m\u001b[0mtext\u001b[0m\u001b[0;34m,\u001b[0m \u001b[0mrealign_boundaries\u001b[0m\u001b[0;34m)\u001b[0m\u001b[0;34m]\u001b[0m\u001b[0;34m\u001b[0m\u001b[0m\n\u001b[0m\u001b[1;32m   1284\u001b[0m \u001b[0;34m\u001b[0m\u001b[0m\n\u001b[1;32m   1285\u001b[0m     \u001b[0;32mdef\u001b[0m \u001b[0m_slices_from_text\u001b[0m\u001b[0;34m(\u001b[0m\u001b[0mself\u001b[0m\u001b[0;34m,\u001b[0m \u001b[0mtext\u001b[0m\u001b[0;34m)\u001b[0m\u001b[0;34m:\u001b[0m\u001b[0;34m\u001b[0m\u001b[0m\n",
      "\u001b[0;32m/Users/szalmaf/anaconda/envs/kaggle2017/lib/python3.5/site-packages/nltk/tokenize/punkt.py\u001b[0m in \u001b[0;36mspan_tokenize\u001b[0;34m(self, text, realign_boundaries)\u001b[0m\n\u001b[1;32m   1272\u001b[0m         \u001b[0;32mif\u001b[0m \u001b[0mrealign_boundaries\u001b[0m\u001b[0;34m:\u001b[0m\u001b[0;34m\u001b[0m\u001b[0m\n\u001b[1;32m   1273\u001b[0m             \u001b[0mslices\u001b[0m \u001b[0;34m=\u001b[0m \u001b[0mself\u001b[0m\u001b[0;34m.\u001b[0m\u001b[0m_realign_boundaries\u001b[0m\u001b[0;34m(\u001b[0m\u001b[0mtext\u001b[0m\u001b[0;34m,\u001b[0m \u001b[0mslices\u001b[0m\u001b[0;34m)\u001b[0m\u001b[0;34m\u001b[0m\u001b[0m\n\u001b[0;32m-> 1274\u001b[0;31m         \u001b[0;32mreturn\u001b[0m \u001b[0;34m[\u001b[0m\u001b[0;34m(\u001b[0m\u001b[0msl\u001b[0m\u001b[0;34m.\u001b[0m\u001b[0mstart\u001b[0m\u001b[0;34m,\u001b[0m \u001b[0msl\u001b[0m\u001b[0;34m.\u001b[0m\u001b[0mstop\u001b[0m\u001b[0;34m)\u001b[0m \u001b[0;32mfor\u001b[0m \u001b[0msl\u001b[0m \u001b[0;32min\u001b[0m \u001b[0mslices\u001b[0m\u001b[0;34m]\u001b[0m\u001b[0;34m\u001b[0m\u001b[0m\n\u001b[0m\u001b[1;32m   1275\u001b[0m \u001b[0;34m\u001b[0m\u001b[0m\n\u001b[1;32m   1276\u001b[0m     \u001b[0;32mdef\u001b[0m \u001b[0msentences_from_text\u001b[0m\u001b[0;34m(\u001b[0m\u001b[0mself\u001b[0m\u001b[0;34m,\u001b[0m \u001b[0mtext\u001b[0m\u001b[0;34m,\u001b[0m \u001b[0mrealign_boundaries\u001b[0m\u001b[0;34m=\u001b[0m\u001b[0;32mTrue\u001b[0m\u001b[0;34m)\u001b[0m\u001b[0;34m:\u001b[0m\u001b[0;34m\u001b[0m\u001b[0m\n",
      "\u001b[0;32m/Users/szalmaf/anaconda/envs/kaggle2017/lib/python3.5/site-packages/nltk/tokenize/punkt.py\u001b[0m in \u001b[0;36m<listcomp>\u001b[0;34m(.0)\u001b[0m\n\u001b[1;32m   1272\u001b[0m         \u001b[0;32mif\u001b[0m \u001b[0mrealign_boundaries\u001b[0m\u001b[0;34m:\u001b[0m\u001b[0;34m\u001b[0m\u001b[0m\n\u001b[1;32m   1273\u001b[0m             \u001b[0mslices\u001b[0m \u001b[0;34m=\u001b[0m \u001b[0mself\u001b[0m\u001b[0;34m.\u001b[0m\u001b[0m_realign_boundaries\u001b[0m\u001b[0;34m(\u001b[0m\u001b[0mtext\u001b[0m\u001b[0;34m,\u001b[0m \u001b[0mslices\u001b[0m\u001b[0;34m)\u001b[0m\u001b[0;34m\u001b[0m\u001b[0m\n\u001b[0;32m-> 1274\u001b[0;31m         \u001b[0;32mreturn\u001b[0m \u001b[0;34m[\u001b[0m\u001b[0;34m(\u001b[0m\u001b[0msl\u001b[0m\u001b[0;34m.\u001b[0m\u001b[0mstart\u001b[0m\u001b[0;34m,\u001b[0m \u001b[0msl\u001b[0m\u001b[0;34m.\u001b[0m\u001b[0mstop\u001b[0m\u001b[0;34m)\u001b[0m \u001b[0;32mfor\u001b[0m \u001b[0msl\u001b[0m \u001b[0;32min\u001b[0m \u001b[0mslices\u001b[0m\u001b[0;34m]\u001b[0m\u001b[0;34m\u001b[0m\u001b[0m\n\u001b[0m\u001b[1;32m   1275\u001b[0m \u001b[0;34m\u001b[0m\u001b[0m\n\u001b[1;32m   1276\u001b[0m     \u001b[0;32mdef\u001b[0m \u001b[0msentences_from_text\u001b[0m\u001b[0;34m(\u001b[0m\u001b[0mself\u001b[0m\u001b[0;34m,\u001b[0m \u001b[0mtext\u001b[0m\u001b[0;34m,\u001b[0m \u001b[0mrealign_boundaries\u001b[0m\u001b[0;34m=\u001b[0m\u001b[0;32mTrue\u001b[0m\u001b[0;34m)\u001b[0m\u001b[0;34m:\u001b[0m\u001b[0;34m\u001b[0m\u001b[0m\n",
      "\u001b[0;32m/Users/szalmaf/anaconda/envs/kaggle2017/lib/python3.5/site-packages/nltk/tokenize/punkt.py\u001b[0m in \u001b[0;36m_realign_boundaries\u001b[0;34m(self, text, slices)\u001b[0m\n\u001b[1;32m   1312\u001b[0m         \"\"\"\n\u001b[1;32m   1313\u001b[0m         \u001b[0mrealign\u001b[0m \u001b[0;34m=\u001b[0m \u001b[0;36m0\u001b[0m\u001b[0;34m\u001b[0m\u001b[0m\n\u001b[0;32m-> 1314\u001b[0;31m         \u001b[0;32mfor\u001b[0m \u001b[0msl1\u001b[0m\u001b[0;34m,\u001b[0m \u001b[0msl2\u001b[0m \u001b[0;32min\u001b[0m \u001b[0m_pair_iter\u001b[0m\u001b[0;34m(\u001b[0m\u001b[0mslices\u001b[0m\u001b[0;34m)\u001b[0m\u001b[0;34m:\u001b[0m\u001b[0;34m\u001b[0m\u001b[0m\n\u001b[0m\u001b[1;32m   1315\u001b[0m             \u001b[0msl1\u001b[0m \u001b[0;34m=\u001b[0m \u001b[0mslice\u001b[0m\u001b[0;34m(\u001b[0m\u001b[0msl1\u001b[0m\u001b[0;34m.\u001b[0m\u001b[0mstart\u001b[0m \u001b[0;34m+\u001b[0m \u001b[0mrealign\u001b[0m\u001b[0;34m,\u001b[0m \u001b[0msl1\u001b[0m\u001b[0;34m.\u001b[0m\u001b[0mstop\u001b[0m\u001b[0;34m)\u001b[0m\u001b[0;34m\u001b[0m\u001b[0m\n\u001b[1;32m   1316\u001b[0m             \u001b[0;32mif\u001b[0m \u001b[0;32mnot\u001b[0m \u001b[0msl2\u001b[0m\u001b[0;34m:\u001b[0m\u001b[0;34m\u001b[0m\u001b[0m\n",
      "\u001b[0;32m/Users/szalmaf/anaconda/envs/kaggle2017/lib/python3.5/site-packages/nltk/tokenize/punkt.py\u001b[0m in \u001b[0;36m_pair_iter\u001b[0;34m(it)\u001b[0m\n\u001b[1;32m    310\u001b[0m     \"\"\"\n\u001b[1;32m    311\u001b[0m     \u001b[0mit\u001b[0m \u001b[0;34m=\u001b[0m \u001b[0miter\u001b[0m\u001b[0;34m(\u001b[0m\u001b[0mit\u001b[0m\u001b[0;34m)\u001b[0m\u001b[0;34m\u001b[0m\u001b[0m\n\u001b[0;32m--> 312\u001b[0;31m     \u001b[0mprev\u001b[0m \u001b[0;34m=\u001b[0m \u001b[0mnext\u001b[0m\u001b[0;34m(\u001b[0m\u001b[0mit\u001b[0m\u001b[0;34m)\u001b[0m\u001b[0;34m\u001b[0m\u001b[0m\n\u001b[0m\u001b[1;32m    313\u001b[0m     \u001b[0;32mfor\u001b[0m \u001b[0mel\u001b[0m \u001b[0;32min\u001b[0m \u001b[0mit\u001b[0m\u001b[0;34m:\u001b[0m\u001b[0;34m\u001b[0m\u001b[0m\n\u001b[1;32m    314\u001b[0m         \u001b[0;32myield\u001b[0m \u001b[0;34m(\u001b[0m\u001b[0mprev\u001b[0m\u001b[0;34m,\u001b[0m \u001b[0mel\u001b[0m\u001b[0;34m)\u001b[0m\u001b[0;34m\u001b[0m\u001b[0m\n",
      "\u001b[0;32m/Users/szalmaf/anaconda/envs/kaggle2017/lib/python3.5/site-packages/nltk/tokenize/punkt.py\u001b[0m in \u001b[0;36m_slices_from_text\u001b[0;34m(self, text)\u001b[0m\n\u001b[1;32m   1285\u001b[0m     \u001b[0;32mdef\u001b[0m \u001b[0m_slices_from_text\u001b[0m\u001b[0;34m(\u001b[0m\u001b[0mself\u001b[0m\u001b[0;34m,\u001b[0m \u001b[0mtext\u001b[0m\u001b[0;34m)\u001b[0m\u001b[0;34m:\u001b[0m\u001b[0;34m\u001b[0m\u001b[0m\n\u001b[1;32m   1286\u001b[0m         \u001b[0mlast_break\u001b[0m \u001b[0;34m=\u001b[0m \u001b[0;36m0\u001b[0m\u001b[0;34m\u001b[0m\u001b[0m\n\u001b[0;32m-> 1287\u001b[0;31m         \u001b[0;32mfor\u001b[0m \u001b[0mmatch\u001b[0m \u001b[0;32min\u001b[0m \u001b[0mself\u001b[0m\u001b[0;34m.\u001b[0m\u001b[0m_lang_vars\u001b[0m\u001b[0;34m.\u001b[0m\u001b[0mperiod_context_re\u001b[0m\u001b[0;34m(\u001b[0m\u001b[0;34m)\u001b[0m\u001b[0;34m.\u001b[0m\u001b[0mfinditer\u001b[0m\u001b[0;34m(\u001b[0m\u001b[0mtext\u001b[0m\u001b[0;34m)\u001b[0m\u001b[0;34m:\u001b[0m\u001b[0;34m\u001b[0m\u001b[0m\n\u001b[0m\u001b[1;32m   1288\u001b[0m             \u001b[0mcontext\u001b[0m \u001b[0;34m=\u001b[0m \u001b[0mmatch\u001b[0m\u001b[0;34m.\u001b[0m\u001b[0mgroup\u001b[0m\u001b[0;34m(\u001b[0m\u001b[0;34m)\u001b[0m \u001b[0;34m+\u001b[0m \u001b[0mmatch\u001b[0m\u001b[0;34m.\u001b[0m\u001b[0mgroup\u001b[0m\u001b[0;34m(\u001b[0m\u001b[0;34m'after_tok'\u001b[0m\u001b[0;34m)\u001b[0m\u001b[0;34m\u001b[0m\u001b[0m\n\u001b[1;32m   1289\u001b[0m             \u001b[0;32mif\u001b[0m \u001b[0mself\u001b[0m\u001b[0;34m.\u001b[0m\u001b[0mtext_contains_sentbreak\u001b[0m\u001b[0;34m(\u001b[0m\u001b[0mcontext\u001b[0m\u001b[0;34m)\u001b[0m\u001b[0;34m:\u001b[0m\u001b[0;34m\u001b[0m\u001b[0m\n",
      "\u001b[0;31mTypeError\u001b[0m: expected string or bytes-like object"
     ]
    }
   ],
   "source": [
    "word_tokenize(sentence_stem)"
   ]
  },
  {
   "cell_type": "code",
   "execution_count": 17,
   "metadata": {},
   "outputs": [],
   "source": [
    "from sklearn.decomposition import LatentDirichletAllocation as lda"
   ]
  },
  {
   "cell_type": "code",
   "execution_count": 18,
   "metadata": {},
   "outputs": [],
   "source": [
    "from sklearn.feature_extraction.text import CountVectorizer"
   ]
  },
  {
   "cell_type": "code",
   "execution_count": 19,
   "metadata": {},
   "outputs": [],
   "source": [
    "vec = CountVectorizer(stop_words='english', binary=True) #text to beg-of-words representation class"
   ]
  },
  {
   "cell_type": "code",
   "execution_count": 20,
   "metadata": {},
   "outputs": [],
   "source": [
    "#turn each review to bag of words representation\n",
    "#1. create dictionary from documents\n",
    "#2. transform docs to bag-of-words\n",
    "X = vec.fit_transform(data.text) "
   ]
  },
  {
   "cell_type": "code",
   "execution_count": 21,
   "metadata": {},
   "outputs": [
    {
     "data": {
      "text/plain": [
       "matrix([[0, 0, 0, 0, 0, 0, 0, 0, 0, 0, 0, 0, 0, 0, 0],\n",
       "        [0, 0, 0, 0, 0, 0, 0, 0, 0, 0, 0, 0, 0, 0, 0],\n",
       "        [0, 0, 0, 0, 0, 0, 0, 0, 0, 0, 0, 0, 0, 0, 0],\n",
       "        [0, 0, 0, 0, 0, 0, 0, 0, 0, 0, 0, 0, 0, 1, 0],\n",
       "        [0, 0, 0, 0, 0, 0, 0, 0, 0, 0, 0, 0, 0, 0, 0],\n",
       "        [0, 0, 0, 0, 0, 0, 0, 0, 0, 0, 0, 0, 0, 0, 0],\n",
       "        [0, 0, 0, 0, 0, 0, 0, 0, 0, 0, 0, 0, 0, 0, 0],\n",
       "        [0, 0, 0, 0, 0, 0, 0, 0, 0, 0, 0, 0, 0, 0, 0],\n",
       "        [0, 0, 0, 0, 0, 0, 0, 0, 0, 0, 0, 0, 0, 0, 0],\n",
       "        [0, 0, 0, 0, 0, 0, 0, 0, 0, 0, 0, 0, 0, 0, 0]], dtype=int64)"
      ]
     },
     "execution_count": 21,
     "metadata": {},
     "output_type": "execute_result"
    }
   ],
   "source": [
    "X.todense()[:10,:15]"
   ]
  },
  {
   "cell_type": "code",
   "execution_count": 22,
   "metadata": {},
   "outputs": [],
   "source": [
    "vocab = sorted(vec.vocabulary_, key=vec.vocabulary_.get) #how to transform back from num to words"
   ]
  },
  {
   "cell_type": "code",
   "execution_count": 23,
   "metadata": {},
   "outputs": [],
   "source": [
    "lda_model = lda(n_components=5)"
   ]
  },
  {
   "cell_type": "code",
   "execution_count": 24,
   "metadata": {},
   "outputs": [
    {
     "name": "stderr",
     "output_type": "stream",
     "text": [
      "/Users/szalmaf/anaconda/envs/kaggle2017/lib/python3.5/site-packages/sklearn/decomposition/online_lda.py:532: DeprecationWarning: The default value for 'learning_method' will be changed from 'online' to 'batch' in the release 0.20. This warning was introduced in 0.18.\n",
      "  DeprecationWarning)\n"
     ]
    },
    {
     "data": {
      "text/plain": [
       "LatentDirichletAllocation(batch_size=128, doc_topic_prior=None,\n",
       "             evaluate_every=-1, learning_decay=0.7, learning_method=None,\n",
       "             learning_offset=10.0, max_doc_update_iter=100, max_iter=10,\n",
       "             mean_change_tol=0.001, n_components=5, n_jobs=1,\n",
       "             n_topics=None, perp_tol=0.1, random_state=None,\n",
       "             topic_word_prior=None, total_samples=1000000.0, verbose=0)"
      ]
     },
     "execution_count": 24,
     "metadata": {},
     "output_type": "execute_result"
    }
   ],
   "source": [
    "lda_model.fit(X)"
   ]
  },
  {
   "cell_type": "code",
   "execution_count": 25,
   "metadata": {},
   "outputs": [
    {
     "data": {
      "text/plain": [
       "array([[ 56.84862714,   0.20145721,   0.20360482, ...,   0.20170514,\n",
       "          0.20354394,   0.20129352],\n",
       "       [  0.21074548,   0.20000518,   0.20083522, ...,   0.20187586,\n",
       "          0.20214527,   0.20001799],\n",
       "       [  0.20130237,   1.03129016,   1.20886609, ...,   0.20000819,\n",
       "          0.20001028,   0.20001254],\n",
       "       [  0.23285943,   0.20001377,   0.2057257 , ...,   1.25296011,\n",
       "          1.32952927,   0.20062336],\n",
       "       [  2.28341286,   0.2000061 ,   0.20000589, ...,   0.20000756,\n",
       "          0.20000757,   1.01547078]])"
      ]
     },
     "execution_count": 25,
     "metadata": {},
     "output_type": "execute_result"
    }
   ],
   "source": [
    "#rows: topics, cols: importance of each word in dictionary for a given topic\n",
    "#i.e. a probability distribution over the dictionary\n",
    "lda_model.components_ "
   ]
  },
  {
   "cell_type": "code",
   "execution_count": 26,
   "metadata": {},
   "outputs": [],
   "source": [
    "def top_n_indices(arr, n):\n",
    "    return np.argsort(-arr)[:n]"
   ]
  },
  {
   "cell_type": "code",
   "execution_count": 27,
   "metadata": {},
   "outputs": [],
   "source": [
    "def print_topics(lda_model, i, n_words=10):\n",
    "    top_words = top_n_indices(lda_model.components_[i], n_words)\n",
    "    words = np.array(vocab)[top_words]\n",
    "    print(words)\n",
    "#     print('*{}* {}').format(i, ' '.join(words))"
   ]
  },
  {
   "cell_type": "code",
   "execution_count": 28,
   "metadata": {},
   "outputs": [],
   "source": [
    "def print_lda(lda_model, n_words=10):\n",
    "    for i, _ in enumerate(lda_model.components_):\n",
    "        print_topics(lda_model, i)"
   ]
  },
  {
   "cell_type": "code",
   "execution_count": 29,
   "metadata": {},
   "outputs": [
    {
     "name": "stdout",
     "output_type": "stream",
     "text": [
      "['food' 'place' 'service' 'good' 'great' 'time' 'just' 'like' 'restaurant'\n",
      " 'pizza']\n",
      "['pizza' 'great' 'good' 'sauce' 'cheese' 'salad' 'delicious' 'nice' 'food'\n",
      " 'pasta']\n",
      "['ken' 'stewart' 'bank' 'cocktail' 'east' 'craft' 'northwood' 'cocktails'\n",
      " 'eggs' 'brunch']\n",
      "['chicken' 'chinese' 'rice' 'fried' 'soup' 'beef' 'pork' 'noodles' 'sauce'\n",
      " 'egg']\n",
      "['die' 'und' 'das' 'ist' 'der' 'mit' 'sehr' 'war' 'nicht' 'es']\n"
     ]
    }
   ],
   "source": [
    "print_lda(lda_model)"
   ]
  },
  {
   "cell_type": "code",
   "execution_count": 30,
   "metadata": {},
   "outputs": [],
   "source": [
    "train_doc_topc = lda_model.transform(X) # new 'design' matrix with topics instead of words"
   ]
  },
  {
   "cell_type": "code",
   "execution_count": 31,
   "metadata": {},
   "outputs": [
    {
     "data": {
      "text/plain": [
       "(3780, 5)"
      ]
     },
     "execution_count": 31,
     "metadata": {},
     "output_type": "execute_result"
    }
   ],
   "source": [
    "train_doc_topc.shape"
   ]
  },
  {
   "cell_type": "markdown",
   "metadata": {},
   "source": [
    "## Supervised learning on topics"
   ]
  },
  {
   "cell_type": "code",
   "execution_count": 32,
   "metadata": {},
   "outputs": [],
   "source": [
    "from sklearn.linear_model import LogisticRegression"
   ]
  },
  {
   "cell_type": "code",
   "execution_count": 33,
   "metadata": {},
   "outputs": [],
   "source": [
    "logReg = LogisticRegression()"
   ]
  },
  {
   "cell_type": "code",
   "execution_count": 34,
   "metadata": {},
   "outputs": [],
   "source": [
    "X = train_doc_topc\n",
    "y = data['restaurant_type']"
   ]
  },
  {
   "cell_type": "code",
   "execution_count": 35,
   "metadata": {},
   "outputs": [
    {
     "data": {
      "text/plain": [
       "0.83439153439153435"
      ]
     },
     "execution_count": 35,
     "metadata": {},
     "output_type": "execute_result"
    }
   ],
   "source": [
    "# try a simple fit \n",
    "logReg.fit(X, y)\n",
    "logReg.score(X, y)"
   ]
  },
  {
   "cell_type": "code",
   "execution_count": 36,
   "metadata": {},
   "outputs": [
    {
     "data": {
      "text/plain": [
       "(3780, 3780)"
      ]
     },
     "execution_count": 36,
     "metadata": {},
     "output_type": "execute_result"
    }
   ],
   "source": [
    "len(X), len(y)"
   ]
  },
  {
   "cell_type": "code",
   "execution_count": null,
   "metadata": {},
   "outputs": [],
   "source": [
    "# Plot learning curves\n",
    "\n",
    "from sklearn.metrics import accuracy_score, make_scorer\n",
    "from sklearn.model_selection import train_test_split\n",
    "from sklearn.model_selection import learning_curve\n",
    "from sklearn.model_selection import ShuffleSplit\n",
    "\n",
    "def plot_learning_curve(estimator, title, X, y, scoring=None, ylim=None, cv=None,\n",
    "                        n_jobs=1, train_sizes=np.linspace(.1, 1.0, 5)):\n",
    "    plt.figure()\n",
    "    plt.title(title)\n",
    "    if ylim is not None:\n",
    "        plt.ylim(*ylim)\n",
    "    plt.xlabel(\"Training examples\")\n",
    "    plt.ylabel(\"Score\")\n",
    "    train_sizes, train_scores, test_scores = learning_curve(\n",
    "        estimator, X, y, scoring=scoring, cv=cv, n_jobs=n_jobs, train_sizes=train_sizes)\n",
    "#     train_scores_mean = np.mean(train_scores, axis=1)\n",
    "#     train_scores_std = np.std(train_scores, axis=1)\n",
    "#     test_scores_mean = np.mean(test_scores, axis=1)\n",
    "#     test_scores_std = np.std(test_scores, axis=1)\n",
    "#     plt.grid()\n",
    "\n",
    "#     plt.fill_between(train_sizes, train_scores_mean - train_scores_std,\n",
    "#                      train_scores_mean + train_scores_std, alpha=0.1,\n",
    "#                      color=\"r\")\n",
    "#     plt.fill_between(train_sizes, test_scores_mean - test_scores_std,\n",
    "#                      test_scores_mean + test_scores_std, alpha=0.1, color=\"g\")\n",
    "#     plt.plot(train_sizes, train_scores_mean, 'o-', color=\"r\",\n",
    "#              label=\"Training score\")\n",
    "#     plt.plot(train_sizes, test_scores_mean, 'o-', color=\"g\",\n",
    "#              label=\"Cross-validation score\")\n",
    "\n",
    "#     plt.legend(loc=\"best\")\n",
    "    return plt\n",
    "\n",
    "\n",
    "title = \"Learning Curves (Logistic regression)\"\n",
    "# Cross validation with 100 iterations to get smoother mean test and train\n",
    "# score curves, each time with 20% data randomly selected as a validation set.\n",
    "cv = ShuffleSplit(n_splits=3, test_size=0.2, random_state=0)\n",
    "scorer = make_scorer(accuracy_score)\n",
    "\n",
    "estimator = LogisticRegression()\n",
    "plot_learning_curve(estimator, title, X, y, scoring=scorer, ylim=(0.7, 1.01), cv=cv, n_jobs=4)\n",
    "\n",
    "# title = \"Learning Curves (SVM, RBF kernel, $\\gamma=0.001$)\"\n",
    "# # SVC is more expensive so we do a lower number of CV iterations:\n",
    "# cv = ShuffleSplit(n_splits=10, test_size=0.2, random_state=0)\n",
    "# estimator = SVC(gamma=0.001)\n",
    "# plot_learning_curve(estimator, title, X, y, (0.7, 1.01), cv=cv, n_jobs=4)\n",
    "plt.show()\n",
    "\n",
    "# def plot_learning_curves(model, X, y):\n",
    "#     X_train, X_val, y_train, y_val = train_test_split(X, y, test_size=0.2) \n",
    "#     train_errors, val_errors = [], []\n",
    "#     for m in range(200, 600): #len(X_train)):\n",
    "#         model.fit(X_train[:m], y_train[:m])\n",
    "#         y_train_predict = model.predict(X_train[:m])\n",
    "#         y_val_predict = model.predict(X_val)\n",
    "#         train_errors.append(accuracy_score(y_train_predict, y_train[:m]))\n",
    "#         val_errors.append(accuracy_score(y_val_predict, y_val))\n",
    "#     plt.plot(np.sqrt(train_errors), \"r-+\", linewidth=2, label=\"train\")\n",
    "#     plt.plot(np.sqrt(val_errors), \"b-\", linewidth=3, label=\"val\")"
   ]
  },
  {
   "cell_type": "code",
   "execution_count": 56,
   "metadata": {},
   "outputs": [
    {
     "data": {
      "image/png": "[encoded data removed]",
      "text/plain": [
       "<matplotlib.figure.Figure at 0x122e000b8>"
      ]
     },
     "metadata": {},
     "output_type": "display_data"
    }
   ],
   "source": [
    "plot_learning_curves(logReg, X, y)"
   ]
  },
  {
   "cell_type": "code",
   "execution_count": null,
   "metadata": {},
   "outputs": [],
   "source": []
  }
 ],
 "metadata": {
  "kernelspec": {
   "display_name": "Python 3",
   "language": "python",
   "name": "python3"
  },
  "language_info": {
   "codemirror_mode": {
    "name": "ipython",
    "version": 3
   },
   "file_extension": ".py",
   "mimetype": "text/x-python",
   "name": "python",
   "nbconvert_exporter": "python",
   "pygments_lexer": "ipython3",
   "version": "3.5.2"
  }
 },
 "nbformat": 4,
 "nbformat_minor": 2
}
